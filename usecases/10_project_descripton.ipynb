{
 "cells": [
  {
   "cell_type": "markdown",
   "metadata": {},
   "source": [
    "build project description \n"
   ]
  },
  {
   "cell_type": "code",
   "execution_count": 12,
   "metadata": {},
   "outputs": [
    {
     "name": "stdout",
     "output_type": "stream",
     "text": [
      "Requirement already satisfied: langchain in c:\\workspace\\streamlit\\.venv\\lib\\site-packages (0.1.12)\n",
      "Requirement already satisfied: openai in c:\\workspace\\streamlit\\.venv\\lib\\site-packages (1.13.3)\n",
      "Requirement already satisfied: langchain_openai in c:\\workspace\\streamlit\\.venv\\lib\\site-packages (0.0.8)\n",
      "Requirement already satisfied: PyYAML>=5.3 in c:\\workspace\\streamlit\\.venv\\lib\\site-packages (from langchain) (6.0.1)\n",
      "Requirement already satisfied: SQLAlchemy<3,>=1.4 in c:\\workspace\\streamlit\\.venv\\lib\\site-packages (from langchain) (2.0.28)\n",
      "Requirement already satisfied: aiohttp<4.0.0,>=3.8.3 in c:\\workspace\\streamlit\\.venv\\lib\\site-packages (from langchain) (3.9.3)\n",
      "Requirement already satisfied: async-timeout<5.0.0,>=4.0.0 in c:\\workspace\\streamlit\\.venv\\lib\\site-packages (from langchain) (4.0.3)\n",
      "Requirement already satisfied: dataclasses-json<0.7,>=0.5.7 in c:\\workspace\\streamlit\\.venv\\lib\\site-packages (from langchain) (0.6.4)\n",
      "Requirement already satisfied: jsonpatch<2.0,>=1.33 in c:\\workspace\\streamlit\\.venv\\lib\\site-packages (from langchain) (1.33)\n",
      "Requirement already satisfied: langchain-community<0.1,>=0.0.28 in c:\\workspace\\streamlit\\.venv\\lib\\site-packages (from langchain) (0.0.28)\n",
      "Requirement already satisfied: langchain-core<0.2.0,>=0.1.31 in c:\\workspace\\streamlit\\.venv\\lib\\site-packages (from langchain) (0.1.31)\n",
      "Requirement already satisfied: langchain-text-splitters<0.1,>=0.0.1 in c:\\workspace\\streamlit\\.venv\\lib\\site-packages (from langchain) (0.0.1)\n",
      "Requirement already satisfied: langsmith<0.2.0,>=0.1.17 in c:\\workspace\\streamlit\\.venv\\lib\\site-packages (from langchain) (0.1.24)\n",
      "Requirement already satisfied: numpy<2,>=1 in c:\\workspace\\streamlit\\.venv\\lib\\site-packages (from langchain) (1.26.4)\n",
      "Requirement already satisfied: pydantic<3,>=1 in c:\\workspace\\streamlit\\.venv\\lib\\site-packages (from langchain) (2.6.4)\n",
      "Requirement already satisfied: requests<3,>=2 in c:\\workspace\\streamlit\\.venv\\lib\\site-packages (from langchain) (2.31.0)\n",
      "Requirement already satisfied: tenacity<9.0.0,>=8.1.0 in c:\\workspace\\streamlit\\.venv\\lib\\site-packages (from langchain) (8.2.3)\n",
      "Requirement already satisfied: anyio<5,>=3.5.0 in c:\\workspace\\streamlit\\.venv\\lib\\site-packages (from openai) (4.3.0)\n",
      "Requirement already satisfied: distro<2,>=1.7.0 in c:\\workspace\\streamlit\\.venv\\lib\\site-packages (from openai) (1.9.0)\n",
      "Requirement already satisfied: httpx<1,>=0.23.0 in c:\\workspace\\streamlit\\.venv\\lib\\site-packages (from openai) (0.27.0)\n",
      "Requirement already satisfied: sniffio in c:\\workspace\\streamlit\\.venv\\lib\\site-packages (from openai) (1.3.1)\n",
      "Requirement already satisfied: tqdm>4 in c:\\workspace\\streamlit\\.venv\\lib\\site-packages (from openai) (4.66.2)\n",
      "Requirement already satisfied: typing-extensions<5,>=4.7 in c:\\workspace\\streamlit\\.venv\\lib\\site-packages (from openai) (4.9.0)\n",
      "Requirement already satisfied: tiktoken<1,>=0.5.2 in c:\\workspace\\streamlit\\.venv\\lib\\site-packages (from langchain_openai) (0.5.2)\n",
      "Requirement already satisfied: aiosignal>=1.1.2 in c:\\workspace\\streamlit\\.venv\\lib\\site-packages (from aiohttp<4.0.0,>=3.8.3->langchain) (1.3.1)\n",
      "Requirement already satisfied: attrs>=17.3.0 in c:\\workspace\\streamlit\\.venv\\lib\\site-packages (from aiohttp<4.0.0,>=3.8.3->langchain) (23.2.0)\n",
      "Requirement already satisfied: frozenlist>=1.1.1 in c:\\workspace\\streamlit\\.venv\\lib\\site-packages (from aiohttp<4.0.0,>=3.8.3->langchain) (1.4.1)\n",
      "Requirement already satisfied: multidict<7.0,>=4.5 in c:\\workspace\\streamlit\\.venv\\lib\\site-packages (from aiohttp<4.0.0,>=3.8.3->langchain) (6.0.5)\n",
      "Requirement already satisfied: yarl<2.0,>=1.0 in c:\\workspace\\streamlit\\.venv\\lib\\site-packages (from aiohttp<4.0.0,>=3.8.3->langchain) (1.9.4)\n",
      "Requirement already satisfied: idna>=2.8 in c:\\workspace\\streamlit\\.venv\\lib\\site-packages (from anyio<5,>=3.5.0->openai) (3.6)\n",
      "Requirement already satisfied: exceptiongroup>=1.0.2 in c:\\workspace\\streamlit\\.venv\\lib\\site-packages (from anyio<5,>=3.5.0->openai) (1.2.0)\n",
      "Requirement already satisfied: marshmallow<4.0.0,>=3.18.0 in c:\\workspace\\streamlit\\.venv\\lib\\site-packages (from dataclasses-json<0.7,>=0.5.7->langchain) (3.20.2)\n",
      "Requirement already satisfied: typing-inspect<1,>=0.4.0 in c:\\workspace\\streamlit\\.venv\\lib\\site-packages (from dataclasses-json<0.7,>=0.5.7->langchain) (0.9.0)\n",
      "Requirement already satisfied: certifi in c:\\workspace\\streamlit\\.venv\\lib\\site-packages (from httpx<1,>=0.23.0->openai) (2024.2.2)\n",
      "Requirement already satisfied: httpcore==1.* in c:\\workspace\\streamlit\\.venv\\lib\\site-packages (from httpx<1,>=0.23.0->openai) (1.0.4)\n",
      "Requirement already satisfied: h11<0.15,>=0.13 in c:\\workspace\\streamlit\\.venv\\lib\\site-packages (from httpcore==1.*->httpx<1,>=0.23.0->openai) (0.14.0)\n",
      "Requirement already satisfied: jsonpointer>=1.9 in c:\\workspace\\streamlit\\.venv\\lib\\site-packages (from jsonpatch<2.0,>=1.33->langchain) (2.4)\n",
      "Requirement already satisfied: packaging<24.0,>=23.2 in c:\\workspace\\streamlit\\.venv\\lib\\site-packages (from langchain-core<0.2.0,>=0.1.31->langchain) (23.2)\n",
      "Requirement already satisfied: orjson<4.0.0,>=3.9.14 in c:\\workspace\\streamlit\\.venv\\lib\\site-packages (from langsmith<0.2.0,>=0.1.17->langchain) (3.9.15)\n",
      "Requirement already satisfied: annotated-types>=0.4.0 in c:\\workspace\\streamlit\\.venv\\lib\\site-packages (from pydantic<3,>=1->langchain) (0.6.0)\n",
      "Requirement already satisfied: pydantic-core==2.16.3 in c:\\workspace\\streamlit\\.venv\\lib\\site-packages (from pydantic<3,>=1->langchain) (2.16.3)\n",
      "Requirement already satisfied: charset-normalizer<4,>=2 in c:\\workspace\\streamlit\\.venv\\lib\\site-packages (from requests<3,>=2->langchain) (3.3.2)\n",
      "Requirement already satisfied: urllib3<3,>=1.21.1 in c:\\workspace\\streamlit\\.venv\\lib\\site-packages (from requests<3,>=2->langchain) (1.26.18)\n",
      "Requirement already satisfied: greenlet!=0.4.17 in c:\\workspace\\streamlit\\.venv\\lib\\site-packages (from SQLAlchemy<3,>=1.4->langchain) (3.0.3)\n",
      "Requirement already satisfied: regex>=2022.1.18 in c:\\workspace\\streamlit\\.venv\\lib\\site-packages (from tiktoken<1,>=0.5.2->langchain_openai) (2023.12.25)\n",
      "Requirement already satisfied: colorama in c:\\workspace\\streamlit\\.venv\\lib\\site-packages (from tqdm>4->openai) (0.4.6)\n",
      "Requirement already satisfied: mypy-extensions>=0.3.0 in c:\\workspace\\streamlit\\.venv\\lib\\site-packages (from typing-inspect<1,>=0.4.0->dataclasses-json<0.7,>=0.5.7->langchain) (1.0.0)\n",
      "Note: you may need to restart the kernel to use updated packages.\n"
     ]
    },
    {
     "name": "stderr",
     "output_type": "stream",
     "text": [
      "\n",
      "[notice] A new release of pip is available: 24.0 -> 24.1.2\n",
      "[notice] To update, run: python.exe -m pip install --upgrade pip\n"
     ]
    },
    {
     "name": "stdout",
     "output_type": "stream",
     "text": [
      "Requirement already satisfied: python-dotenv in c:\\workspace\\streamlit\\.venv\\lib\\site-packages (1.0.1)\n",
      "Note: you may need to restart the kernel to use updated packages.\n"
     ]
    },
    {
     "name": "stderr",
     "output_type": "stream",
     "text": [
      "\n",
      "[notice] A new release of pip is available: 24.0 -> 24.1.2\n",
      "[notice] To update, run: python.exe -m pip install --upgrade pip\n"
     ]
    }
   ],
   "source": [
    "%pip install langchain openai langchain_openai\n",
    "%pip install python-dotenv "
   ]
  },
  {
   "cell_type": "code",
   "execution_count": 1,
   "metadata": {},
   "outputs": [],
   "source": [
    "#project keywords\n",
    "project_keywords = \"\"\" PCIe Lane Margining. \n",
    "\"\"\"\n"
   ]
  },
  {
   "cell_type": "markdown",
   "metadata": {},
   "source": [
    "to access the openAI API, you need an API key which you can get it from  https://platform.openai.com/api-keys\n",
    "once you have a key then you can either save it as an environment variable or hard code in as needed from simplicity"
   ]
  },
  {
   "cell_type": "code",
   "execution_count": 9,
   "metadata": {},
   "outputs": [],
   "source": [
    "import os\n",
    "import time\n",
    "import openai\n",
    "\n",
    "from dotenv import load_dotenv\n",
    "from langchain.chains import LLMChain\n",
    "from langchain.memory import ConversationBufferWindowMemory\n",
    "from langchain.prompts import PromptTemplate\n",
    "from langchain_openai import ChatOpenAI\n",
    "\n",
    "# Load the OpenAI API key from the environment variables\n",
    "try:\n",
    "    load_dotenv(override=True)\n",
    "    # os.environ[\"OPENAI_API_KEY\"] = \"your key\"\n",
    "    openai.api_key = os.environ.get(\"OPENAI_API_KEY\")\n",
    "    if not openai.api_key:\n",
    "        raise ValueError(\"OPENAI_API_KEY is not set in the environment variables.\")\n",
    "except Exception as e:\n",
    "    print(f\"Error loading environment variables or setting OpenAI API key: {e}\")\n"
   ]
  },
  {
   "cell_type": "markdown",
   "metadata": {},
   "source": [
    "initialize OpenAI model"
   ]
  },
  {
   "cell_type": "code",
   "execution_count": 10,
   "metadata": {},
   "outputs": [],
   "source": [
    "# openAI model name\n",
    "# https://platform.openai.com/docs/models\n",
    "#openAI_model=\"gpt-4\"\n",
    "#openAI_model=\"gpt-4-32k\"\n",
    "#openAI_model=\"gpt-4-turbo\"\n",
    "openAI_model=\"gpt-4o\""
   ]
  },
  {
   "cell_type": "code",
   "execution_count": 11,
   "metadata": {},
   "outputs": [],
   "source": [
    "from langchain_openai import ChatOpenAI\n",
    "\n",
    "try:\n",
    "    prompt = PromptTemplate(\n",
    "        input_variables=[\"chat_history\", \"question\"],\n",
    "        template=\"\"\"You are technical writer who has a high level of experience in technical communication, create instruction manuals, how-to guides, journal articles, \n",
    "        and other documents to communicate complex information.  you should write technical article by following best practices and guidelines.\n",
    "        - You need to create outlines and summaries of your own documents or for giving instructions to the documentation team.\n",
    "        - You need to be able to use a consistent style throughout your documents.\n",
    "        - you need to check grammar and spelling and make sure the document is easy to read and navigate.\n",
    "        - you need to use headings and subheadings to make the document easy to read and navigate.\n",
    "        - for each section, complete paragraph with detailed explaination.  add example if possible.\n",
    "        - if you don't have enough context to answer the question, ask for more information.\n",
    "        Your flow of writing should ensure that the content is structured in a clear, coherent, and comprehensive manner. \n",
    "        Start with the foundational aspects or concepts, then gradually introduce more advanced topics or nuances, \n",
    "        ensuring a smooth transition between sections. Provide a clear introduction and conclusion to the topic.\n",
    "        Make it easy for reader to read with widely used article format and structure.\n",
    "        \n",
    "        chat_history: {chat_history}\n",
    "\n",
    "        Question: {question}\n",
    "\n",
    "        Answer:\"\"\"\n",
    "    )\n",
    "\n",
    "    llm = ChatOpenAI(openai_api_key=os.environ[\"OPENAI_API_KEY\"], model_name=openAI_model)\n",
    "\n",
    "    memory = ConversationBufferWindowMemory(memory_key=\"chat_history\", k=4)\n",
    "    llm_chain = LLMChain(\n",
    "        llm=llm,\n",
    "        memory=memory,\n",
    "        prompt=prompt\n",
    "    )\n",
    "except Exception as e:\n",
    "    print(f\"Failed to initialize ChatOpenAI : {e}\")\n"
   ]
  },
  {
   "cell_type": "code",
   "execution_count": 5,
   "metadata": {},
   "outputs": [],
   "source": [
    "messages = [\n",
    "                {\"role\": \"assistant\", \"content\": \"Hello there\"}\n",
    "]\n"
   ]
  },
  {
   "cell_type": "code",
   "execution_count": 6,
   "metadata": {},
   "outputs": [
    {
     "name": "stdout",
     "output_type": "stream",
     "text": [
      "### Understanding PCIe Lane Margining\n",
      "\n",
      "#### Introduction\n",
      "\n",
      "Peripheral Component Interconnect Express (PCIe) is a high-speed interface standard used for connecting various components within a computer system, such as graphics cards, SSDs, and network cards. As data rates increase, ensuring reliable data transmission becomes more challenging. One of the techniques employed to maintain signal integrity and performance is PCIe Lane Margining. This article will delve into the concept of PCIe Lane Margining, its importance, and how it is implemented.\n",
      "\n",
      "#### What is PCIe Lane Margining?\n",
      "\n",
      "PCIe Lane Margining is a diagnostic technique used to assess and optimize the performance and reliability of PCIe lanes. It involves adjusting the voltage and timing margins of the PCIe lanes to determine their operational limits. By identifying how much margin exists before data transmission errors occur, engineers can ensure that the system operates reliably under various conditions.\n",
      "\n",
      "#### Importance of PCIe Lane Margining\n",
      "\n",
      "As PCIe speeds increase, the margin for error decreases, making it crucial to have precise control over signal integrity. Lane Margining offers several key benefits:\n",
      "\n",
      "1. **Enhanced Reliability**: By ensuring that PCIe lanes operate well within their limits, the likelihood of data transmission errors is minimized.\n",
      "2. **Performance Optimization**: Understanding the margins can help in tuning the system for optimal performance, potentially enabling higher data rates.\n",
      "3. **Predictive Maintenance**: Regular margining can help identify potential issues before they cause system failures, allowing for proactive maintenance.\n",
      "\n",
      "#### How PCIe Lane Margining Works\n",
      "\n",
      "PCIe Lane Margining typically involves the following steps:\n",
      "\n",
      "1. **Initial Calibration**: The system performs an initial calibration to establish baseline voltage and timing settings for each PCIe lane.\n",
      "2. **Margin Testing**: Voltage and timing margins are systematically varied to determine the operational limits. This involves adjusting the signal amplitude (voltage margining) and the timing (timing margining) to see how much deviation can occur before errors are introduced.\n",
      "3. **Data Collection**: During the margining process, data is collected on error rates and other performance metrics.\n",
      "4. **Analysis and Adjustment**: The collected data is analyzed to identify any lanes operating close to their limits. Adjustments are made to optimize the margins, ensuring reliable operation.\n",
      "\n",
      "##### Example: Voltage Margining\n",
      "\n",
      "Consider a PCIe lane operating at a standard voltage of 1V. During voltage margining, the voltage might be adjusted in small increments, both above and below 1V, to see how much deviation the lane can tolerate without causing errors. If the lane can operate reliably between 0.9V and 1.1V, the voltage margin is ±0.1V.\n",
      "\n",
      "#### Best Practices for Implementing PCIe Lane Margining\n",
      "\n",
      "1. **Regular Testing**: Perform margining tests regularly to ensure continued reliability, especially after system changes or upgrades.\n",
      "2. **Automated Tools**: Utilize automated testing tools to streamline the margining process and ensure consistent results.\n",
      "3. **Comprehensive Analysis**: Analyze data from all PCIe lanes to identify any weak points and make necessary adjustments.\n",
      "4. **Documentation**: Keep detailed records of margining results and adjustments for future reference and troubleshooting.\n",
      "\n",
      "#### Conclusion\n",
      "\n",
      "PCIe Lane Margining is a critical technique for maintaining the reliability and performance of high-speed PCIe interfaces. By systematically adjusting and testing the voltage and timing margins, engineers can ensure that PCIe lanes operate within safe limits, minimizing the risk of data transmission errors and system failures. Regular margining, combined with thorough analysis and documentation, helps in achieving optimal performance and long-term system reliability.\n",
      "\n",
      "By understanding and implementing PCIe Lane Margining, you can significantly enhance the robustness and efficiency of your computing systems, ensuring they meet the stringent demands of modern applications.\n"
     ]
    }
   ],
   "source": [
    "user_prompt = \"explain following : \" + project_keywords\n",
    "\n",
    "messages.append({\"role\": \"user\", \"content\": user_prompt})\n",
    "ai_response = llm_chain.predict(question=user_prompt)\n",
    "messages.append({\"role\": \"assistant\", \"content\": ai_response})\n",
    "\n",
    "print(ai_response)\n",
    "\n",
    "project_description = ai_response"
   ]
  },
  {
   "cell_type": "markdown",
   "metadata": {},
   "source": [
    "generate project description"
   ]
  },
  {
   "cell_type": "code",
   "execution_count": 7,
   "metadata": {},
   "outputs": [
    {
     "name": "stdout",
     "output_type": "stream",
     "text": [
      "### Product Description: PCIe Lane Margining Tool\n",
      "\n",
      "#### Introduction\n",
      "\n",
      "Unlock the full potential of your PCIe-equipped systems with our cutting-edge PCIe Lane Margining Tool. As data rates continue to surge, maintaining impeccable signal integrity and performance is more critical than ever. Our tool is engineered to diagnose, optimize, and ensure the reliable operation of PCIe lanes, providing you with the confidence that your systems can handle the most demanding applications.\n",
      "\n",
      "#### Key Features\n",
      "\n",
      "1. **Advanced Diagnostic Capabilities**: Our tool meticulously adjusts voltage and timing margins to determine the operational limits of your PCIe lanes, ensuring they operate well within safe parameters.\n",
      "2. **Real-Time Data Collection**: Collects comprehensive data on error rates and performance metrics during the margining process, offering invaluable insights for optimization.\n",
      "3. **Automated Testing**: Streamlines the margining process with automated testing tools, ensuring consistent, accurate results every time.\n",
      "4. **Detailed Analytics**: Analyzes collected data to identify any weak points, allowing for precise adjustments and enhanced reliability.\n",
      "5. **User-Friendly Interface**: Designed with a user-centric interface that simplifies complex margining processes, making it accessible even to non-experts.\n",
      "6. **Comprehensive Documentation**: Provides in-depth reports and records of margining results and adjustments, aiding future reference and troubleshooting.\n",
      "\n",
      "#### Benefits\n",
      "\n",
      "1. **Enhanced Reliability**: By ensuring that your PCIe lanes function well within their limits, our tool minimizes the likelihood of data transmission errors, bolstering system stability.\n",
      "2. **Optimal Performance**: Fine-tunes your system for peak performance, enabling higher data rates and ensuring that your applications run smoothly.\n",
      "3. **Predictive Maintenance**: Regular use of our tool helps identify potential issues before they escalate into system failures, allowing for proactive maintenance and reduced downtime.\n",
      "4. **Long-Term System Health**: Consistent margining and detailed analysis help maintain the long-term reliability and efficiency of your PCIe-equipped systems.\n",
      "\n",
      "#### How It Works\n",
      "\n",
      "1. **Initial Calibration**: The tool performs an initial calibration to set baseline voltage and timing parameters for each PCIe lane.\n",
      "2. **Margin Testing**: It systematically varies voltage and timing margins to determine the operational thresholds, adjusting the signal amplitude and timing to assess tolerance levels.\n",
      "3. **Data Collection**: During margining, the tool collects data on error rates and other performance metrics, providing a clear picture of system health.\n",
      "4. **Analysis and Adjustment**: Analyzes the collected data to identify lanes operating near their limits. Necessary adjustments are made to optimize margins and ensure reliable operation.\n",
      "\n",
      "##### Example: Voltage Margining\n",
      "\n",
      "For instance, a PCIe lane operating at a standard voltage of 1V can be tested by adjusting the voltage in small increments, both above and below 1V. If it operates reliably between 0.9V and 1.1V, the voltage margin is ±0.1V. Our tool automates this process, providing precise measurements and adjustments.\n",
      "\n",
      "#### Conclusion\n",
      "\n",
      "Our PCIe Lane Margining Tool is an indispensable asset for anyone looking to maintain the highest levels of reliability and performance in PCIe-equipped systems. By systematically adjusting and testing voltage and timing margins, it ensures that your PCIe lanes operate within safe limits, reducing the risk of data transmission errors and system failures. Regular margining, thorough analysis, and comprehensive documentation empower you to keep your systems running at their best, meeting the rigorous demands of modern applications.\n",
      "\n",
      "Invest in our PCIe Lane Margining Tool today and take the first step towards unparalleled system robustness and efficiency. Ensure your computing systems are always at their optimal performance, ready to tackle any challenge.\n"
     ]
    }
   ],
   "source": [
    "task_description=\"\"\"Write a compelling product description that can capture the interest of potential customers and conveying the value of your product. \n",
    "highlight key features and list important features of the product and focus on how these features benefit the user.\n",
    "The product description should be clear, concise, and engaging, and should provide all the information that a potential customer needs to make an informed decision.\n",
    "\"\"\"\n",
    "    \n",
    "user_prompt = \"write product description according to the task for the project. \" \\\n",
    "    + \"\\n\" + \"task: \" + task_description \\\n",
    "    + \"\\n\" + \"project: \" + project_description\n",
    "\n",
    "messages.append({\"role\": \"user\", \"content\": user_prompt})\n",
    "ai_response = llm_chain.predict(question=user_prompt)\n",
    "messages.append({\"role\": \"assistant\", \"content\": ai_response})\n",
    "\n",
    "print(ai_response)"
   ]
  }
 ],
 "metadata": {
  "kernelspec": {
   "display_name": "Python 3",
   "language": "python",
   "name": "python3"
  },
  "language_info": {
   "codemirror_mode": {
    "name": "ipython",
    "version": 3
   },
   "file_extension": ".py",
   "mimetype": "text/x-python",
   "name": "python",
   "nbconvert_exporter": "python",
   "pygments_lexer": "ipython3",
   "version": "3.9.13"
  }
 },
 "nbformat": 4,
 "nbformat_minor": 2
}
