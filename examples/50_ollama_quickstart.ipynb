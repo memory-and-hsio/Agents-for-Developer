{
 "cells": [
  {
   "cell_type": "markdown",
   "metadata": {},
   "source": [
    "how to use ollama.  \n",
    "\n",
    "https://python.langchain.com/docs/integrations/llms/ollama\n",
    "\n",
    "after you install ollama for windows, you can check \"http://localhost:11434/\" to see if local model is running"
   ]
  },
  {
   "cell_type": "markdown",
   "metadata": {},
   "source": [
    "if you want to try different model please refer to this link   https://github.com/ollama/ollama#model-library\n",
    "\n",
    "ex. to install llama2:13b , type in this\n",
    "\n",
    ">> ollama pull llama2:13b"
   ]
  },
  {
   "cell_type": "code",
   "execution_count": 5,
   "metadata": {},
   "outputs": [
    {
     "name": "stdout",
     "output_type": "stream",
     "text": [
      "Using OLLAMA\n"
     ]
    }
   ],
   "source": [
    "import os\n",
    "from dotenv import load_dotenv\n",
    "\n",
    "load_dotenv(override=True)\n",
    "\n",
    "# check if USE_OLLAMA is True\n",
    "if os.getenv('USE_OLLAMA') == 'True':\n",
    "    print('Using OLLAMA')\n",
    "if os.getenv('USE_OPENAI') == 'True':\n",
    "    print('Using OpenAI') "
   ]
  },
  {
   "cell_type": "code",
   "execution_count": 6,
   "metadata": {},
   "outputs": [
    {
     "data": {
      "text/plain": [
       "'The answer to 2 + 2 is 4.'"
      ]
     },
     "execution_count": 6,
     "metadata": {},
     "output_type": "execute_result"
    }
   ],
   "source": [
    "from langchain_community.llms import Ollama\n",
    "\n",
    "#llm = Ollama(model=\"llama2:13b\")\n",
    "llm = Ollama(model=\"llama2\")\n",
    "llm.invoke(\"what is two plus two\")\n",
    "\n",
    "\n"
   ]
  },
  {
   "cell_type": "code",
   "execution_count": 3,
   "metadata": {},
   "outputs": [],
   "source": [
    "from langchain_core.prompts import ChatPromptTemplate\n",
    "\n",
    "prompt = ChatPromptTemplate.from_messages([\n",
    "    (\"system\", \"you are technical documentation writer.\"), \n",
    "    (\"user\", \"{input}\")\n",
    "])\n",
    "\n",
    "#print(prompt.format_messages(input = \"what is your job?\"))\n",
    "\n",
    "chain = prompt | llm"
   ]
  },
  {
   "cell_type": "code",
   "execution_count": 4,
   "metadata": {},
   "outputs": [
    {
     "data": {
      "text/plain": [
       "\"As a technical documentation writer, I'd be happy to provide an overview of the NVMe command set!\\n\\nNVMe (Non-Volatile Memory Express) is a high-speed storage interface that allows for faster data transfer rates compared to traditional hard disk drives. The NVMe protocol uses a command set to communicate with the storage device, and understanding these commands is essential for optimizing performance and troubleshooting issues.\\n\\nHere are some of the most common NVMe commands:\\n\\n1. READ: This command is used to read data from the storage device. The NVMe controller sends a READ request to the device, specifying the location of the data to be read. The device returns the data in a series of packets, which are then processed by the host system.\\n2. WRITE: This command is used to write data to the storage device. Similar to the READ command, the NVMe controller sends a WRITE request to the device, specifying the location of the data to be written. The device stores the data in a series of packets and returns an acknowledgement to the host system.\\n3. COPY: This command is used to copy data between two locations within the storage device or between the storage device and the host system. The NVMe controller sends a COPY request to the device, specifying the source and destination addresses.\\n4. FLUSH: This command is used to flush cache lines from the storage device to the host system. The NVMe controller sends a FLUSH request to the device, which then flushes the cache lines and returns an acknowledgement to the host system.\\n5. PING: This command is used to test connectivity between the host system and the storage device. The NVMe controller sends a PING request to the device, which responds with an acknowledgement.\\n6. MODE_SET: This command is used to set the performance mode of the storage device. The NVMe controller sends a MODE_SET request to the device, specifying the desired performance mode (e.g., power-saving, high-performance).\\n7. SMART: This command is used to retrieve data from the storage device's SMART (Self-Monitoring, Analysis, and Reporting Technology) module. The NVMe controller sends a SMART request to the device, which then returns the SMART data to the host system.\\n8. THROTTLING: This command is used to throttle the transfer rate of the storage device. The NVMe controller sends a THROTTLING request to the device, specifying the desired transfer rate limit.\\n9. PERFORMANCE_CAPS: This command is used to query the performance caps of the storage device. The NVMe controller sends a PERFORMANCE_CAPS request to the device, which then returns the available performance caps (e.g., maximum transfer rate, latency).\\n10. DEVICE_INFO: This command is used to retrieve information about the storage device. The NVMe controller sends a DEVICE_INFO request to the device, which then returns various device-specific information (e.g., model number, firmware version).\\n\\nThese are just some of the most common NVMe commands, and there may be additional commands depending on the specific implementation of the NVMe protocol. Understanding these commands is essential for optimizing performance and troubleshooting issues when working with NVMe storage devices.\""
      ]
     },
     "execution_count": 4,
     "metadata": {},
     "output_type": "execute_result"
    }
   ],
   "source": [
    "#chain.invoke({\"input\": \"what three plus three?\"})\n",
    "chain.invoke({\"input\": \"tell me about NVMe command set\"})\n"
   ]
  }
 ],
 "metadata": {
  "kernelspec": {
   "display_name": "Python 3",
   "language": "python",
   "name": "python3"
  },
  "language_info": {
   "codemirror_mode": {
    "name": "ipython",
    "version": 3
   },
   "file_extension": ".py",
   "mimetype": "text/x-python",
   "name": "python",
   "nbconvert_exporter": "python",
   "pygments_lexer": "ipython3",
   "version": "3.9.13"
  }
 },
 "nbformat": 4,
 "nbformat_minor": 2
}
