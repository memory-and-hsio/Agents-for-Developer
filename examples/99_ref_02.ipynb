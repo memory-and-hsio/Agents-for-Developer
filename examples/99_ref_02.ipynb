{
 "cells": [
  {
   "cell_type": "code",
   "execution_count": 1,
   "metadata": {},
   "outputs": [
    {
     "name": "stderr",
     "output_type": "stream",
     "text": [
      "Traceback (most recent call last):\n",
      "  File \"c:\\workspace\\streamlit\\.venv\\lib\\site-packages\\pandasai\\pipelines\\chat\\generate_chat_pipeline.py\", line 307, in run\n",
      "    output = (self.code_generation_pipeline | self.code_execution_pipeline).run(\n",
      "  File \"c:\\workspace\\streamlit\\.venv\\lib\\site-packages\\pandasai\\pipelines\\pipeline.py\", line 137, in run\n",
      "    raise e\n",
      "  File \"c:\\workspace\\streamlit\\.venv\\lib\\site-packages\\pandasai\\pipelines\\pipeline.py\", line 101, in run\n",
      "    step_output = logic.execute(\n",
      "  File \"c:\\workspace\\streamlit\\.venv\\lib\\site-packages\\pandasai\\pipelines\\chat\\code_generator.py\", line 33, in execute\n",
      "    code = pipeline_context.config.llm.generate_code(input, pipeline_context)\n",
      "  File \"c:\\workspace\\streamlit\\.venv\\lib\\site-packages\\pandasai\\llm\\base.py\", line 200, in generate_code\n",
      "    response = self.call(instruction, context)\n",
      "  File \"c:\\workspace\\streamlit\\.venv\\lib\\site-packages\\pandasai\\llm\\bamboo_llm.py\", line 18, in call\n",
      "    response = self._session.post(\"/llm/chat\", json=data)\n",
      "  File \"c:\\workspace\\streamlit\\.venv\\lib\\site-packages\\pandasai\\helpers\\request.py\", line 37, in post\n",
      "    return self.make_request(\"POST\", path, **kwargs)\n",
      "  File \"c:\\workspace\\streamlit\\.venv\\lib\\site-packages\\pandasai\\helpers\\request.py\", line 71, in make_request\n",
      "    raise PandasAIApiCallError(data[\"message\"])\n",
      "pandasai.exceptions.PandasAIApiCallError: Unable to generate LLM response.\n"
     ]
    },
    {
     "name": "stdout",
     "output_type": "stream",
     "text": [
      "Unfortunately, I was not able to answer your question, because of the following error:\n",
      "\n",
      "Unable to generate LLM response.\n",
      "\n"
     ]
    }
   ],
   "source": [
    "\n",
    "\n",
    "import os\n",
    "from pandasai import SmartDataframe\n",
    "import pandas as pd\n",
    "\n",
    "# pandas dataframe\n",
    "sales_by_country = pd.DataFrame({\n",
    "    \"country\": [\"United States\", \"United Kingdom\", \"France\", \"Germany\", \"Italy\", \"Spain\", \"Canada\", \"Australia\", \"Japan\", \"China\"],\n",
    "    \"sales\": [5000, 3200, 2900, 4100, 2300, 2100, 2500, 2600, 4500, 7000]\n",
    "})\n",
    "\n",
    "\n",
    "# By default, unless you choose a different LLM, it will use BambooLLM.\n",
    "# You can get your free API key signing up at https://pandabi.ai (you can also configure it in your .env file)\n",
    "os.environ[\"PANDASAI_API_KEY\"] = \"$2a$10$lN3m7OydEx49/AjI4rpDg..E2wz/1Al65sATAYAHUHE7pz1awtASq\"\n",
    "\n",
    "# convert to SmartDataframe\n",
    "sdf = SmartDataframe(sales_by_country)\n",
    "\n",
    "response = sdf.chat('Which are the top 5 countries by sales?')\n",
    "print(response)\n",
    "# Output: China, United States, Japan, Germany, Australia\n",
    "\n",
    "print(sdf.last_error)\n",
    "\n"
   ]
  }
 ],
 "metadata": {
  "kernelspec": {
   "display_name": ".venv",
   "language": "python",
   "name": "python3"
  },
  "language_info": {
   "codemirror_mode": {
    "name": "ipython",
    "version": 3
   },
   "file_extension": ".py",
   "mimetype": "text/x-python",
   "name": "python",
   "nbconvert_exporter": "python",
   "pygments_lexer": "ipython3",
   "version": "3.9.13"
  }
 },
 "nbformat": 4,
 "nbformat_minor": 2
}
