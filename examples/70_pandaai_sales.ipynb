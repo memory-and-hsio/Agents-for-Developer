{
 "cells": [
  {
   "cell_type": "code",
   "execution_count": 2,
   "metadata": {},
   "outputs": [
    {
     "name": "stdout",
     "output_type": "stream",
     "text": [
      "Collecting pandasai\n",
      "  Using cached pandasai-2.0.35-py3-none-any.whl.metadata (9.6 kB)\n",
      "Collecting astor<0.9.0,>=0.8.1 (from pandasai)\n",
      "  Using cached astor-0.8.1-py2.py3-none-any.whl.metadata (4.2 kB)\n",
      "Collecting duckdb<1 (from pandasai)\n",
      "  Using cached duckdb-0.10.2-cp39-cp39-win_amd64.whl.metadata (782 bytes)\n",
      "Collecting faker<20.0.0,>=19.12.0 (from pandasai)\n",
      "  Using cached Faker-19.13.0-py3-none-any.whl.metadata (15 kB)\n",
      "Requirement already satisfied: jinja2<4.0.0,>=3.1.3 in c:\\python39\\lib\\site-packages (from pandasai) (3.1.3)\n",
      "Requirement already satisfied: matplotlib<4.0.0,>=3.7.1 in c:\\python39\\lib\\site-packages (from pandasai) (3.8.2)\n",
      "Requirement already satisfied: openai<2 in c:\\python39\\lib\\site-packages (from pandasai) (1.13.3)\n",
      "Collecting pandas==1.5.3 (from pandasai)\n",
      "  Using cached pandas-1.5.3-cp39-cp39-win_amd64.whl.metadata (12 kB)\n",
      "Requirement already satisfied: pillow<11.0.0,>=10.1.0 in c:\\python39\\lib\\site-packages (from pandasai) (10.1.0)\n",
      "Requirement already satisfied: pydantic<3,>=1 in c:\\python39\\lib\\site-packages (from pandasai) (2.6.1)\n",
      "Requirement already satisfied: python-dotenv<2.0.0,>=1.0.0 in c:\\python39\\lib\\site-packages (from pandasai) (1.0.1)\n",
      "Requirement already satisfied: requests<3.0.0,>=2.31.0 in c:\\python39\\lib\\site-packages (from pandasai) (2.31.0)\n",
      "Requirement already satisfied: scipy<2.0.0,>=1.9.0 in c:\\python39\\lib\\site-packages (from pandasai) (1.11.4)\n",
      "Requirement already satisfied: sqlalchemy<3,>=1.4 in c:\\python39\\lib\\site-packages (from pandasai) (2.0.27)\n",
      "Requirement already satisfied: python-dateutil>=2.8.1 in c:\\python39\\lib\\site-packages (from pandas==1.5.3->pandasai) (2.8.2)\n",
      "Requirement already satisfied: pytz>=2020.1 in c:\\python39\\lib\\site-packages (from pandas==1.5.3->pandasai) (2024.1)\n",
      "Requirement already satisfied: numpy>=1.20.3 in c:\\python39\\lib\\site-packages (from pandas==1.5.3->pandasai) (1.26.4)\n",
      "Requirement already satisfied: MarkupSafe>=2.0 in c:\\python39\\lib\\site-packages (from jinja2<4.0.0,>=3.1.3->pandasai) (2.1.5)\n",
      "Requirement already satisfied: contourpy>=1.0.1 in c:\\python39\\lib\\site-packages (from matplotlib<4.0.0,>=3.7.1->pandasai) (1.2.0)\n",
      "Requirement already satisfied: cycler>=0.10 in c:\\python39\\lib\\site-packages (from matplotlib<4.0.0,>=3.7.1->pandasai) (0.12.1)\n",
      "Requirement already satisfied: fonttools>=4.22.0 in c:\\python39\\lib\\site-packages (from matplotlib<4.0.0,>=3.7.1->pandasai) (4.47.0)\n",
      "Requirement already satisfied: kiwisolver>=1.3.1 in c:\\python39\\lib\\site-packages (from matplotlib<4.0.0,>=3.7.1->pandasai) (1.4.5)\n",
      "Requirement already satisfied: packaging>=20.0 in c:\\python39\\lib\\site-packages (from matplotlib<4.0.0,>=3.7.1->pandasai) (23.2)\n",
      "Requirement already satisfied: pyparsing>=2.3.1 in c:\\python39\\lib\\site-packages (from matplotlib<4.0.0,>=3.7.1->pandasai) (3.1.1)\n",
      "Requirement already satisfied: importlib-resources>=3.2.0 in c:\\python39\\lib\\site-packages (from matplotlib<4.0.0,>=3.7.1->pandasai) (6.1.1)\n",
      "Requirement already satisfied: anyio<5,>=3.5.0 in c:\\python39\\lib\\site-packages (from openai<2->pandasai) (4.2.0)\n",
      "Requirement already satisfied: distro<2,>=1.7.0 in c:\\python39\\lib\\site-packages (from openai<2->pandasai) (1.9.0)\n",
      "Requirement already satisfied: httpx<1,>=0.23.0 in c:\\python39\\lib\\site-packages (from openai<2->pandasai) (0.26.0)\n",
      "Requirement already satisfied: sniffio in c:\\python39\\lib\\site-packages (from openai<2->pandasai) (1.3.0)\n",
      "Requirement already satisfied: tqdm>4 in c:\\python39\\lib\\site-packages (from openai<2->pandasai) (4.66.2)\n",
      "Requirement already satisfied: typing-extensions<5,>=4.7 in c:\\python39\\lib\\site-packages (from openai<2->pandasai) (4.9.0)\n",
      "Requirement already satisfied: annotated-types>=0.4.0 in c:\\python39\\lib\\site-packages (from pydantic<3,>=1->pandasai) (0.6.0)\n",
      "Requirement already satisfied: pydantic-core==2.16.2 in c:\\python39\\lib\\site-packages (from pydantic<3,>=1->pandasai) (2.16.2)\n",
      "Requirement already satisfied: charset-normalizer<4,>=2 in c:\\python39\\lib\\site-packages (from requests<3.0.0,>=2.31.0->pandasai) (3.3.2)\n",
      "Requirement already satisfied: idna<4,>=2.5 in c:\\python39\\lib\\site-packages (from requests<3.0.0,>=2.31.0->pandasai) (3.6)\n",
      "Requirement already satisfied: urllib3<3,>=1.21.1 in c:\\python39\\lib\\site-packages (from requests<3.0.0,>=2.31.0->pandasai) (2.2.0)\n",
      "Requirement already satisfied: certifi>=2017.4.17 in c:\\python39\\lib\\site-packages (from requests<3.0.0,>=2.31.0->pandasai) (2024.2.2)\n",
      "Requirement already satisfied: greenlet!=0.4.17 in c:\\python39\\lib\\site-packages (from sqlalchemy<3,>=1.4->pandasai) (3.0.3)\n",
      "Requirement already satisfied: exceptiongroup>=1.0.2 in c:\\users\\hhur\\appdata\\roaming\\python\\python39\\site-packages (from anyio<5,>=3.5.0->openai<2->pandasai) (1.2.0)\n",
      "Requirement already satisfied: httpcore==1.* in c:\\python39\\lib\\site-packages (from httpx<1,>=0.23.0->openai<2->pandasai) (1.0.2)\n",
      "Requirement already satisfied: h11<0.15,>=0.13 in c:\\python39\\lib\\site-packages (from httpcore==1.*->httpx<1,>=0.23.0->openai<2->pandasai) (0.14.0)\n",
      "Requirement already satisfied: zipp>=3.1.0 in c:\\python39\\lib\\site-packages (from importlib-resources>=3.2.0->matplotlib<4.0.0,>=3.7.1->pandasai) (3.17.0)\n",
      "Requirement already satisfied: six>=1.5 in c:\\python39\\lib\\site-packages (from python-dateutil>=2.8.1->pandas==1.5.3->pandasai) (1.16.0)\n",
      "Requirement already satisfied: colorama in c:\\users\\hhur\\appdata\\roaming\\python\\python39\\site-packages (from tqdm>4->openai<2->pandasai) (0.4.6)\n",
      "Using cached pandasai-2.0.35-py3-none-any.whl (140 kB)\n",
      "Using cached pandas-1.5.3-cp39-cp39-win_amd64.whl (10.9 MB)\n",
      "Using cached astor-0.8.1-py2.py3-none-any.whl (27 kB)\n",
      "Using cached duckdb-0.10.2-cp39-cp39-win_amd64.whl (9.8 MB)\n",
      "Using cached Faker-19.13.0-py3-none-any.whl (1.7 MB)\n",
      "Installing collected packages: duckdb, astor, pandas, faker, pandasai\n",
      "  Attempting uninstall: pandas\n",
      "    Found existing installation: pandas 2.2.0\n",
      "    Uninstalling pandas-2.2.0:\n",
      "      Successfully uninstalled pandas-2.2.0\n",
      "Successfully installed astor-0.8.1 duckdb-0.10.2 faker-19.13.0 pandas-1.5.3 pandasai-2.0.35\n",
      "Note: you may need to restart the kernel to use updated packages.\n"
     ]
    },
    {
     "name": "stderr",
     "output_type": "stream",
     "text": [
      "  WARNING: Failed to remove contents in a temporary directory 'C:\\Python39\\Lib\\site-packages\\~-ndas.libs'.\n",
      "  You can safely remove it manually.\n",
      "  WARNING: Failed to remove contents in a temporary directory 'C:\\Python39\\Lib\\site-packages\\~-ndas'.\n",
      "  You can safely remove it manually.\n"
     ]
    }
   ],
   "source": [
    "%pip install pandasai"
   ]
  },
  {
   "cell_type": "code",
   "execution_count": 3,
   "metadata": {},
   "outputs": [
    {
     "data": {
      "text/plain": [
       "'The top 5 countries by sales are: China, United States, Japan, Germany, United Kingdom.'"
      ]
     },
     "execution_count": 3,
     "metadata": {},
     "output_type": "execute_result"
    }
   ],
   "source": [
    "import os\n",
    "import pandas as pd\n",
    "from pandasai import Agent\n",
    "\n",
    "from dotenv import load_dotenv\n",
    "\n",
    "load_dotenv(override=True)\n",
    "\n",
    "# Sample DataFrame\n",
    "sales_by_country = pd.DataFrame({\n",
    "    \"country\": [\"United States\", \"United Kingdom\", \"France\", \"Germany\", \"Italy\", \"Spain\", \"Canada\", \"Australia\", \"Japan\", \"China\"],\n",
    "    \"sales\": [5000, 3200, 2900, 4100, 2300, 2100, 2500, 2600, 4500, 7000]\n",
    "})\n",
    "\n",
    "# By default, unless you choose a different LLM, it will use BambooLLM.\n",
    "# You can get your free API key signing up at https://pandabi.ai (you can also configure it in your .env file)\n",
    "#os.environ[\"PANDASAI_API_KEY\"] = \"YOUR_API_KEY\"\n",
    "\n",
    "agent = Agent(sales_by_country)\n",
    "agent.chat('Which are the top 5 countries by sales?')\n"
   ]
  }
 ],
 "metadata": {
  "kernelspec": {
   "display_name": "Python 3",
   "language": "python",
   "name": "python3"
  },
  "language_info": {
   "codemirror_mode": {
    "name": "ipython",
    "version": 3
   },
   "file_extension": ".py",
   "mimetype": "text/x-python",
   "name": "python",
   "nbconvert_exporter": "python",
   "pygments_lexer": "ipython3",
   "version": "3.9.13"
  }
 },
 "nbformat": 4,
 "nbformat_minor": 2
}
